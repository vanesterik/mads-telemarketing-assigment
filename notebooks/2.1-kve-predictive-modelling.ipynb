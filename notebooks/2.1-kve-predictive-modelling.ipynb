{
 "cells": [
  {
   "cell_type": "code",
   "execution_count": null,
   "id": "03749a6c",
   "metadata": {},
   "outputs": [],
   "source": [
    "import numpy as np\n",
    "import pandas as pd\n",
    "\n",
    "from imblearn.over_sampling import SMOTE\n",
    "from matplotlib import pyplot as plt\n",
    "\n",
    "from sklearn.compose import ColumnTransformer\n",
    "from sklearn.linear_model import LogisticRegression\n",
    "from sklearn.metrics import ConfusionMatrixDisplay\n",
    "from sklearn.model_selection import train_test_split\n",
    "from sklearn.preprocessing import OneHotEncoder, MinMaxScaler\n",
    "\n",
    "from mads_telemarketing_assignment.config import (\n",
    "    DATA_FILENAME,\n",
    "    PROCESSED_DATA_DIR,\n",
    ")"
   ]
  },
  {
   "cell_type": "code",
   "execution_count": 3,
   "id": "b3202a8f",
   "metadata": {},
   "outputs": [],
   "source": [
    "# Various variables used in the code\n",
    "random_state = 42"
   ]
  },
  {
   "cell_type": "code",
   "execution_count": 4,
   "id": "9029b012",
   "metadata": {},
   "outputs": [],
   "source": [
    "# Load  processed dataset\n",
    "df = pd.read_csv(PROCESSED_DATA_DIR / DATA_FILENAME)"
   ]
  },
  {
   "cell_type": "code",
   "execution_count": 5,
   "id": "ce80d77e",
   "metadata": {},
   "outputs": [
    {
     "name": "stdout",
     "output_type": "stream",
     "text": [
      "X shape: (27655, 16), y shape: (27655,)\n"
     ]
    }
   ],
   "source": [
    "# Define X and y for modeling\n",
    "X = df.drop(columns=[\"y\"], axis=1)\n",
    "y = df[\"y\"]\n",
    "\n",
    "print(f\"X shape: {X.shape}, y shape: {y.shape}\")"
   ]
  },
  {
   "cell_type": "code",
   "execution_count": 6,
   "id": "006dcb22",
   "metadata": {},
   "outputs": [],
   "source": [
    "# Split the data into training and testing sets\n",
    "X_train, X_test, y_train, y_test = train_test_split(\n",
    "    X,\n",
    "    y,\n",
    "    random_state=random_state,\n",
    "    shuffle=True,\n",
    "    test_size=0.2,  # 20% of the data for testing\n",
    ")\n",
    "\n",
    "# Convert to numpy arrays\n",
    "y_train = y_train.to_numpy()\n",
    "y_test = y_test.to_numpy()"
   ]
  },
  {
   "cell_type": "code",
   "execution_count": 7,
   "id": "0e9dabd6",
   "metadata": {},
   "outputs": [],
   "source": [
    "# Transform features to prepare for modelling\n",
    "transformer = ColumnTransformer(\n",
    "    [\n",
    "        (\n",
    "            \"categorical\",\n",
    "            OneHotEncoder(\n",
    "                sparse_output=False,\n",
    "                handle_unknown=\"ignore\",\n",
    "            ),\n",
    "            [\n",
    "                \"contact\",\n",
    "                \"day_of_week\",\n",
    "                \"default\",\n",
    "                \"education\",\n",
    "                \"housing\",\n",
    "                \"job\",\n",
    "                \"loan\",\n",
    "                \"marital\",\n",
    "                \"month\",\n",
    "            ],\n",
    "        ),\n",
    "    ],\n",
    "    remainder=MinMaxScaler(),\n",
    ")\n",
    "X_train_transformed = transformer.fit_transform(X_train)"
   ]
  },
  {
   "cell_type": "code",
   "execution_count": 21,
   "id": "3b24d975",
   "metadata": {},
   "outputs": [
    {
     "name": "stdout",
     "output_type": "stream",
     "text": [
      "X_train_balanced shape: (42170, 54), y_train_balanced shape: (42170,)\n"
     ]
    }
   ],
   "source": [
    "# Apply SMOTE to balance the dataset\n",
    "smote = SMOTE(random_state=random_state)\n",
    "X_train_balanced, y_train_balanced = smote.fit_resample(X_train_transformed, y_train)\n",
    "\n",
    "print(f\"X_train_balanced shape: {X_train_balanced.shape}, y_train_balanced shape: {y_train_balanced.shape}\")"
   ]
  },
  {
   "cell_type": "code",
   "execution_count": 25,
   "id": "924d629b",
   "metadata": {},
   "outputs": [],
   "source": [
    "classifier = LogisticRegression(random_state=random_state)\n",
    "model_name = \"Logistic Regression\""
   ]
  },
  {
   "cell_type": "code",
   "execution_count": 26,
   "id": "47fa7c08",
   "metadata": {},
   "outputs": [
    {
     "name": "stdout",
     "output_type": "stream",
     "text": [
      "✅ Modelling completed.\n"
     ]
    }
   ],
   "source": [
    "# Define dictionary to store results of each classifier\n",
    "probabilities = {}\n",
    "predictions = {}\n",
    "\n",
    "# Prepare an array to store predictions for all training samples\n",
    "y_probs = np.zeros(len(y_train_balanced))\n",
    "y_preds = np.zeros(len(y_train_balanced))\n",
    "\n",
    "# Fit the pipeline on the training fold\n",
    "classifier.fit(X_train_balanced, y_train_balanced)\n",
    "\n",
    "# Transform the test set\n",
    "X_test_transformed = transformer.transform(X_test)\n",
    "\n",
    "# Make and store probabilities and predictions for the test fold\n",
    "y_probs = classifier.predict_proba(X_test_transformed)[:, 1]\n",
    "y_preds = classifier.predict(X_test_transformed)\n",
    "\n",
    "print(\"✅ Modelling completed.\")"
   ]
  },
  {
   "cell_type": "code",
   "execution_count": 27,
   "id": "62dc44b6",
   "metadata": {},
   "outputs": [
    {
     "data": {
      "image/png": "[encoded data removed]",
      "text/plain": [
       "<Figure size 640x480 with 1 Axes>"
      ]
     },
     "metadata": {},
     "output_type": "display_data"
    }
   ],
   "source": [
    "plt.style.use(\"seaborn-v0_8-dark\")\n",
    "\n",
    "_, ax = plt.subplots()\n",
    "\n",
    "ConfusionMatrixDisplay.from_predictions(\n",
    "    y_test,\n",
    "    y_preds,\n",
    "    ax=ax,\n",
    "    colorbar=False,\n",
    ")\n",
    "ax.set_title(model_name)\n",
    "\n",
    "plt.tight_layout()\n",
    "plt.show()"
   ]
  }
 ],
 "metadata": {
  "kernelspec": {
   "display_name": "mads-telemarketing-assignment-3.11",
   "language": "python",
   "name": "python3"
  },
  "language_info": {
   "codemirror_mode": {
    "name": "ipython",
    "version": 3
   },
   "file_extension": ".py",
   "mimetype": "text/x-python",
   "name": "python",
   "nbconvert_exporter": "python",
   "pygments_lexer": "ipython3",
   "version": "3.11.5"
  }
 },
 "nbformat": 4,
 "nbformat_minor": 5
}
