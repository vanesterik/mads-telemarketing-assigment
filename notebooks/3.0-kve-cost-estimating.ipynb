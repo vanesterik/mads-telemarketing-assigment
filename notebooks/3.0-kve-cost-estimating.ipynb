{
 "cells": [
  {
   "cell_type": "code",
   "execution_count": 1,
   "id": "03749a6c",
   "metadata": {},
   "outputs": [],
   "source": [
    "%load_ext autoreload\n",
    "%autoreload 2\n",
    "\n",
    "import pandas as pd\n",
    "\n",
    "from sklearn.model_selection import train_test_split\n",
    "from tabulate import tabulate, SEPARATING_LINE\n",
    "\n",
    "from mads_telemarketing_assignment.config import (\n",
    "    DATA_FILENAME,\n",
    "    PROCESSED_DATA_DIR,\n",
    ")\n",
    "from mads_telemarketing_assignment.metrics import calculate_cost_estimates"
   ]
  },
  {
   "cell_type": "code",
   "execution_count": 2,
   "id": "b3202a8f",
   "metadata": {},
   "outputs": [],
   "source": [
    "# Various variables used in the code\n",
    "random_state = 42"
   ]
  },
  {
   "cell_type": "code",
   "execution_count": 3,
   "id": "9029b012",
   "metadata": {},
   "outputs": [],
   "source": [
    "# Load  processed dataset\n",
    "df = pd.read_csv(PROCESSED_DATA_DIR / DATA_FILENAME)"
   ]
  },
  {
   "cell_type": "code",
   "execution_count": 4,
   "id": "e6e33a80",
   "metadata": {},
   "outputs": [
    {
     "name": "stdout",
     "output_type": "stream",
     "text": [
      "X shape: (41188, 22), y shape: (41188,)\n"
     ]
    }
   ],
   "source": [
    "# Define X and y for calculation of cost estimates\n",
    "X = df.drop(columns=[\"y\"], axis=1)\n",
    "y = df[\"y\"]\n",
    "\n",
    "print(f\"X shape: {X.shape}, y shape: {y.shape}\")"
   ]
  },
  {
   "cell_type": "code",
   "execution_count": 5,
   "id": "b097796a",
   "metadata": {},
   "outputs": [],
   "source": [
    "# Split the data into training and testing sets\n",
    "X_train, X_test, y_train, y_test = train_test_split(\n",
    "    X,\n",
    "    y,\n",
    "    random_state=random_state,\n",
    "    test_size=0.2,  # 20% of the data for testing\n",
    ")"
   ]
  },
  {
   "cell_type": "code",
   "execution_count": 6,
   "id": "125af52f",
   "metadata": {},
   "outputs": [],
   "source": [
    "# Calculate the cost estimates for train and test sets\n",
    "train_cost_estimates = calculate_cost_estimates(X_train, y_train)\n",
    "test_cost_estimates = calculate_cost_estimates(X_test, y_test)"
   ]
  },
  {
   "cell_type": "code",
   "execution_count": 7,
   "id": "60c9e5d9",
   "metadata": {},
   "outputs": [],
   "source": [
    "def print_cost_estimates(cost_estimates):\n",
    "\n",
    "    table = [\n",
    "        [\"Hourly Wage\", round(cost_estimates[0], 2)],\n",
    "        [\"Cost Per Call\", round(cost_estimates[1], 2)],\n",
    "        [\"Revenue Per Success\", f\"{cost_estimates[2]:.2f}\"],\n",
    "        SEPARATING_LINE,\n",
    "        [\"Profit\", f\"{cost_estimates[5]:,.2f}\"],\n",
    "        [\"Profit Margin\", f\"{cost_estimates[6]:.0%}\"],\n",
    "    ]\n",
    "\n",
    "    print(tabulate(table, headers=[\"Metric\", \"Value\"], tablefmt=\"github\"))"
   ]
  },
  {
   "cell_type": "code",
   "execution_count": 8,
   "id": "aa67f69d",
   "metadata": {},
   "outputs": [
    {
     "name": "stdout",
     "output_type": "stream",
     "text": [
      "| Metric              | Value         |\n",
      "|---------------------|---------------|\n",
      "| Hourly Wage         | 35            |\n",
      "| Cost Per Call       | 100           |\n",
      "| Revenue Per Success | 400.00        |\n",
      "| \u0001 |\n",
      "| Profit              | -3,295,000.00 |\n",
      "| Profit Margin       | 0%            |\n"
     ]
    }
   ],
   "source": [
    "print_cost_estimates(train_cost_estimates)"
   ]
  },
  {
   "cell_type": "code",
   "execution_count": 9,
   "id": "e0bff3f6",
   "metadata": {},
   "outputs": [
    {
     "name": "stdout",
     "output_type": "stream",
     "text": [
      "| Metric              | Value       |\n",
      "|---------------------|-------------|\n",
      "| Hourly Wage         | 35          |\n",
      "| Cost Per Call       | 100         |\n",
      "| Revenue Per Success | 400.00      |\n",
      "| \u0001 |\n",
      "| Profit              | -823,800.00 |\n",
      "| Profit Margin       | 0%          |\n"
     ]
    }
   ],
   "source": [
    "print_cost_estimates(test_cost_estimates)"
   ]
  }
 ],
 "metadata": {
  "kernelspec": {
   "display_name": "mads-telemarketing-assignment-3.11",
   "language": "python",
   "name": "python3"
  },
  "language_info": {
   "codemirror_mode": {
    "name": "ipython",
    "version": 3
   },
   "file_extension": ".py",
   "mimetype": "text/x-python",
   "name": "python",
   "nbconvert_exporter": "python",
   "pygments_lexer": "ipython3",
   "version": "3.11.5"
  }
 },
 "nbformat": 4,
 "nbformat_minor": 5
}
