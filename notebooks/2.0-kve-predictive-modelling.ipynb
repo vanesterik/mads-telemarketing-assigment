{
 "cells": [
  {
   "cell_type": "code",
   "execution_count": 1,
   "id": "03749a6c",
   "metadata": {},
   "outputs": [],
   "source": [
    "import numpy as np\n",
    "import pandas as pd\n",
    "\n",
    "from imblearn.over_sampling import SMOTE\n",
    "from matplotlib import pyplot as plt\n",
    "from numpy.typing import NDArray\n",
    "from plot_shift.profit_based_thresholds_plot import (\n",
    "    calculate_profit_thresholds,\n",
    "    plot_profit_thresholds,\n",
    ")\n",
    "from tabulate import tabulate\n",
    "from xgboost import XGBClassifier\n",
    "\n",
    "from sklearn.calibration import calibration_curve\n",
    "from sklearn.compose import ColumnTransformer\n",
    "from sklearn.ensemble import (\n",
    "    AdaBoostClassifier,\n",
    "    GradientBoostingClassifier,\n",
    "    RandomForestClassifier,\n",
    ")\n",
    "from sklearn.linear_model import LogisticRegression\n",
    "from sklearn.metrics import ConfusionMatrixDisplay, make_scorer\n",
    "from sklearn.model_selection import (\n",
    "    LearningCurveDisplay,\n",
    "    GridSearchCV,\n",
    "    TimeSeriesSplit,\n",
    "    train_test_split,\n",
    ")\n",
    "from sklearn.neighbors import KNeighborsClassifier\n",
    "from sklearn.preprocessing import OneHotEncoder, MinMaxScaler\n",
    "\n",
    "from mads_telemarketing_assignment.config import (\n",
    "    DATA_FILENAME,\n",
    "    PROCESSED_DATA_DIR,\n",
    ")"
   ]
  },
  {
   "cell_type": "code",
   "execution_count": 2,
   "id": "b3202a8f",
   "metadata": {},
   "outputs": [],
   "source": [
    "# Various variables used in the code\n",
    "random_state = 42"
   ]
  },
  {
   "cell_type": "code",
   "execution_count": 3,
   "id": "9029b012",
   "metadata": {},
   "outputs": [],
   "source": [
    "# Load  processed dataset\n",
    "df = pd.read_csv(PROCESSED_DATA_DIR / DATA_FILENAME)"
   ]
  },
  {
   "cell_type": "code",
   "execution_count": 4,
   "id": "ce80d77e",
   "metadata": {},
   "outputs": [
    {
     "name": "stdout",
     "output_type": "stream",
     "text": [
      "X shape: (1333, 16), y shape: (1333,)\n"
     ]
    }
   ],
   "source": [
    "# Define X and y for modeling\n",
    "X = df.drop(columns=[\"y\"], axis=1)\n",
    "y = df[\"y\"]\n",
    "\n",
    "print(f\"X shape: {X.shape}, y shape: {y.shape}\")"
   ]
  },
  {
   "cell_type": "code",
   "execution_count": 5,
   "id": "006dcb22",
   "metadata": {},
   "outputs": [],
   "source": [
    "# Split the data into training and testing sets\n",
    "X_train, X_test, y_train, y_test = train_test_split(\n",
    "    X,\n",
    "    y,\n",
    "    random_state=random_state,\n",
    "    shuffle=False,\n",
    "    test_size=0.2,  # 20% of the data for testing\n",
    ")\n",
    "\n",
    "# Convert to numpy arrays\n",
    "y_train = y_train.to_numpy()\n",
    "y_test = y_test.to_numpy()"
   ]
  },
  {
   "cell_type": "code",
   "execution_count": 6,
   "id": "0e9dabd6",
   "metadata": {},
   "outputs": [],
   "source": [
    "# Transform features to prepare for modelling\n",
    "transformer = ColumnTransformer(\n",
    "    [\n",
    "        (\n",
    "            \"categorical\",\n",
    "            OneHotEncoder(\n",
    "                sparse_output=False,\n",
    "                handle_unknown=\"ignore\",\n",
    "            ),\n",
    "            [\n",
    "                \"contact\",\n",
    "                \"day_of_week\",\n",
    "                \"default\",\n",
    "                \"education\",\n",
    "                \"housing\",\n",
    "                \"job\",\n",
    "                \"loan\",\n",
    "                \"marital\",\n",
    "                \"month\",\n",
    "            ],\n",
    "        ),\n",
    "    ],\n",
    "    remainder=MinMaxScaler(),\n",
    ")\n",
    "X_train_transformed = transformer.fit_transform(X_train)"
   ]
  },
  {
   "cell_type": "code",
   "execution_count": 7,
   "id": "3b24d975",
   "metadata": {},
   "outputs": [
    {
     "name": "stdout",
     "output_type": "stream",
     "text": [
      "X_train_balanced shape: (1246, 51), y_train_balanced shape: (1246,)\n"
     ]
    }
   ],
   "source": [
    "# Apply SMOTE to balance the dataset\n",
    "smote = SMOTE(random_state=random_state)\n",
    "X_train_balanced, y_train_balanced = smote.fit_resample(X_train_transformed, y_train)\n",
    "\n",
    "print(f\"X_train_balanced shape: {X_train_balanced.shape}, y_train_balanced shape: {y_train_balanced.shape}\")"
   ]
  },
  {
   "cell_type": "code",
   "execution_count": 8,
   "id": "c3caafdd",
   "metadata": {},
   "outputs": [],
   "source": [
    "# Define time series splitter for cross-validation\n",
    "tscv = TimeSeriesSplit(n_splits=5)"
   ]
  },
  {
   "cell_type": "code",
   "execution_count": 9,
   "id": "9dc47449",
   "metadata": {},
   "outputs": [],
   "source": [
    "# Define function to calculate maximum profit\n",
    "def calculate_maximum_profit(\n",
    "    y_true: NDArray[np.int32],\n",
    "    y_probs: NDArray[np.float32],\n",
    ") -> int:\n",
    "    # Calculate various metrics based on the binary classifier curve\n",
    "    results = calculate_profit_thresholds(y_true, y_probs)\n",
    "    # Return the maximum profit as the score\n",
    "    return results[2]\n",
    "\n",
    "\n",
    "# Define scorer for maximum profit calculation\n",
    "maximum_profit_scorer = make_scorer(\n",
    "    calculate_maximum_profit,\n",
    "    response_method=\"predict_proba\",\n",
    "    greater_is_better=True,\n",
    ")"
   ]
  },
  {
   "cell_type": "code",
   "execution_count": 10,
   "id": "299caf45",
   "metadata": {},
   "outputs": [],
   "source": [
    "# Define list of classifiers to be used in modeling process\n",
    "classifiers = {\n",
    "    \"AdaBoost\": [\n",
    "        AdaBoostClassifier(random_state=random_state),\n",
    "        {\n",
    "            # \"learning_rate\": [0.01],\n",
    "        },\n",
    "    ],\n",
    "    \"Gradient Boosting\": [\n",
    "        GradientBoostingClassifier(random_state=random_state),\n",
    "        {\n",
    "            # \"n_estimators\": [100, 200, 300],\n",
    "            # \"learning_rate\": [0.1, 0.01, 0.001],\n",
    "            # \"max_depth\": [3, 5, 7],\n",
    "        },\n",
    "    ],\n",
    "    \"K-Nearest Neighbors\": [\n",
    "        KNeighborsClassifier(n_jobs=-1),\n",
    "        {\n",
    "            # \"n_neighbors\": [3, 5, 7],\n",
    "            # \"weights\": [\"uniform\", \"distance\"],\n",
    "            # \"algorithm\": [\"auto\", \"ball_tree\", \"kd_tree\", \"brute\"],\n",
    "        },\n",
    "    ],\n",
    "    \"Logistic Regression\": [\n",
    "        LogisticRegression(random_state=random_state),\n",
    "        {\n",
    "            # \"penalty\": [\"l2\", \"none\"],\n",
    "            # \"C\": [0.1, 1.0, 10.0],\n",
    "            # \"solver\": [\"lbfgs\", \"liblinear\"],\n",
    "        },\n",
    "    ],\n",
    "    \"Random Forest\": [\n",
    "        RandomForestClassifier(random_state=random_state),\n",
    "        {\n",
    "            # \"n_estimators\": [100, 200, 300],\n",
    "            # \"max_depth\": [10, 20, 30],\n",
    "            # \"min_samples_split\": [2, 5, 10],\n",
    "            # \"min_samples_leaf\": [1, 2, 4],\n",
    "        },\n",
    "    ],\n",
    "    \"XGBoost\": [\n",
    "        XGBClassifier(random_state=random_state),\n",
    "        {\n",
    "            # \"n_estimators\": [100, 200, 300],\n",
    "            # \"learning_rate\": [0.1, 0.01, 0.001],\n",
    "            # \"max_depth\": [3, 5, 7],\n",
    "        },\n",
    "    ],\n",
    "}"
   ]
  },
  {
   "cell_type": "code",
   "execution_count": 11,
   "id": "62d924ff",
   "metadata": {},
   "outputs": [
    {
     "name": "stdout",
     "output_type": "stream",
     "text": [
      "Start hypertuning:\n",
      "- AdaBoost\n",
      "- Gradient Boosting\n",
      "- K-Nearest Neighbors\n",
      "- Logistic Regression\n",
      "- Random Forest\n",
      "- XGBoost\n",
      "✅ Hypertuning completed.\n"
     ]
    }
   ],
   "source": [
    "print(\"Start hypertuning:\")\n",
    "\n",
    "# Loop through each classifier and perform grid search for hyperparameter tuning\n",
    "for name, (classifier, param_grid) in classifiers.items():\n",
    "    print(f\"- {name}\")\n",
    "\n",
    "    grid_search = GridSearchCV(\n",
    "        cv=tscv,\n",
    "        estimator=classifier,\n",
    "        n_jobs=-1,\n",
    "        param_grid=param_grid,\n",
    "        scoring=maximum_profit_scorer,\n",
    "    )\n",
    "    grid_search.fit(X_train_balanced, y_train_balanced)\n",
    "    # Overwrite the classifier with the best found parameters\n",
    "    classifiers[name] = [grid_search.best_estimator_, grid_search.best_params_]\n",
    "\n",
    "print(\"✅ Hypertuning completed.\")\n",
    "\n",
    "# Print the results of the grid search\n",
    "# print(\"\\nGrid Search Results:\")\n",
    "# results = []\n",
    "# for name, (estimator, params) in classifiers.items():\n",
    "\n",
    "#     print(f\"- {name} with parameters: {params}\")\n",
    "#     print(f\"- Best score: {estimator.score(X_train_balanced, y_train_balanced)}\")"
   ]
  },
  {
   "cell_type": "code",
   "execution_count": 12,
   "id": "47fa7c08",
   "metadata": {},
   "outputs": [
    {
     "name": "stdout",
     "output_type": "stream",
     "text": [
      "Start modelling:\n",
      "- AdaBoost\n",
      "- Gradient Boosting\n",
      "- K-Nearest Neighbors\n",
      "- Logistic Regression\n",
      "- Random Forest\n",
      "- XGBoost\n",
      "✅ Modelling completed.\n"
     ]
    }
   ],
   "source": [
    "# Define dictionary to store results of each classifier\n",
    "from sklearn.model_selection import KFold\n",
    "\n",
    "\n",
    "probabilities = {}\n",
    "predictions = {}\n",
    "\n",
    "print(\"Start modelling:\")\n",
    "\n",
    "# Loop through each classifier, fit, cross-validate and store results\n",
    "for name, (classifier, _) in classifiers.items():\n",
    "    print(f\"- {name}\")\n",
    "\n",
    "    # Prepare an array to store predictions for all training samples\n",
    "    y_prob = np.zeros(len(y_train_balanced))\n",
    "    y_preds = np.zeros(len(y_train_balanced))\n",
    "\n",
    "    for fold_train_index, fold_test_index in tscv.split(X_train_balanced, y_train_balanced):\n",
    "        # Split the data into training and test folds\n",
    "        X_fold_train, X_fold_test = (\n",
    "            X_train_balanced[fold_train_index],\n",
    "            X_train_balanced[fold_test_index],\n",
    "        )\n",
    "        y_fold_train, y_fold_test = (\n",
    "            y_train_balanced[fold_train_index],\n",
    "            y_train_balanced[fold_test_index],\n",
    "        )\n",
    "        # Fit the pipeline on the training fold\n",
    "        classifier.fit(X_fold_train, y_fold_train)\n",
    "        # Make and store probabilities and predictions for the test fold\n",
    "        y_prob[fold_test_index] = classifier.predict_proba(X_fold_test)[:, 1]\n",
    "        y_preds[fold_test_index] = classifier.predict(X_fold_test)\n",
    "\n",
    "    probabilities[name] = y_prob\n",
    "    predictions[name] = y_preds\n",
    "\n",
    "print(\"✅ Modelling completed.\")"
   ]
  },
  {
   "cell_type": "code",
   "execution_count": 13,
   "id": "62dc44b6",
   "metadata": {},
   "outputs": [
    {
     "ename": "ValueError",
     "evalue": "Found input variables with inconsistent numbers of samples: [1066, 1246]",
     "output_type": "error",
     "traceback": [
      "\u001b[31m---------------------------------------------------------------------------\u001b[39m",
      "\u001b[31mValueError\u001b[39m                                Traceback (most recent call last)",
      "\u001b[36mCell\u001b[39m\u001b[36m \u001b[39m\u001b[32mIn[13]\u001b[39m\u001b[32m, line 6\u001b[39m\n\u001b[32m      3\u001b[39m _, axes = plt.subplots(\u001b[32m2\u001b[39m, \u001b[32m3\u001b[39m, figsize=(\u001b[32m15\u001b[39m, \u001b[32m10\u001b[39m))\n\u001b[32m      5\u001b[39m \u001b[38;5;28;01mfor\u001b[39;00m ax, (model_name, y_pred) \u001b[38;5;129;01min\u001b[39;00m \u001b[38;5;28mzip\u001b[39m(axes.flatten(), predictions.items()):\n\u001b[32m----> \u001b[39m\u001b[32m6\u001b[39m     \u001b[43mConfusionMatrixDisplay\u001b[49m\u001b[43m.\u001b[49m\u001b[43mfrom_predictions\u001b[49m\u001b[43m(\u001b[49m\n\u001b[32m      7\u001b[39m \u001b[43m        \u001b[49m\u001b[43my_train\u001b[49m\u001b[43m,\u001b[49m\n\u001b[32m      8\u001b[39m \u001b[43m        \u001b[49m\u001b[43my_pred\u001b[49m\u001b[43m,\u001b[49m\n\u001b[32m      9\u001b[39m \u001b[43m        \u001b[49m\u001b[43max\u001b[49m\u001b[43m=\u001b[49m\u001b[43max\u001b[49m\u001b[43m,\u001b[49m\n\u001b[32m     10\u001b[39m \u001b[43m        \u001b[49m\u001b[43mcolorbar\u001b[49m\u001b[43m=\u001b[49m\u001b[38;5;28;43;01mFalse\u001b[39;49;00m\u001b[43m,\u001b[49m\n\u001b[32m     11\u001b[39m \u001b[43m    \u001b[49m\u001b[43m)\u001b[49m\n\u001b[32m     12\u001b[39m     ax.set_title(model_name)\n\u001b[32m     14\u001b[39m plt.tight_layout()\n",
      "\u001b[36mFile \u001b[39m\u001b[32m~/Projects/mads/mads-telemarketing-assignment/.venv/lib/python3.11/site-packages/sklearn/metrics/_plot/confusion_matrix.py:467\u001b[39m, in \u001b[36mConfusionMatrixDisplay.from_predictions\u001b[39m\u001b[34m(cls, y_true, y_pred, labels, sample_weight, normalize, display_labels, include_values, xticks_rotation, values_format, cmap, ax, colorbar, im_kw, text_kw)\u001b[39m\n\u001b[32m    464\u001b[39m     \u001b[38;5;28;01melse\u001b[39;00m:\n\u001b[32m    465\u001b[39m         display_labels = labels\n\u001b[32m--> \u001b[39m\u001b[32m467\u001b[39m cm = \u001b[43mconfusion_matrix\u001b[49m\u001b[43m(\u001b[49m\n\u001b[32m    468\u001b[39m \u001b[43m    \u001b[49m\u001b[43my_true\u001b[49m\u001b[43m,\u001b[49m\n\u001b[32m    469\u001b[39m \u001b[43m    \u001b[49m\u001b[43my_pred\u001b[49m\u001b[43m,\u001b[49m\n\u001b[32m    470\u001b[39m \u001b[43m    \u001b[49m\u001b[43msample_weight\u001b[49m\u001b[43m=\u001b[49m\u001b[43msample_weight\u001b[49m\u001b[43m,\u001b[49m\n\u001b[32m    471\u001b[39m \u001b[43m    \u001b[49m\u001b[43mlabels\u001b[49m\u001b[43m=\u001b[49m\u001b[43mlabels\u001b[49m\u001b[43m,\u001b[49m\n\u001b[32m    472\u001b[39m \u001b[43m    \u001b[49m\u001b[43mnormalize\u001b[49m\u001b[43m=\u001b[49m\u001b[43mnormalize\u001b[49m\u001b[43m,\u001b[49m\n\u001b[32m    473\u001b[39m \u001b[43m\u001b[49m\u001b[43m)\u001b[49m\n\u001b[32m    475\u001b[39m disp = \u001b[38;5;28mcls\u001b[39m(confusion_matrix=cm, display_labels=display_labels)\n\u001b[32m    477\u001b[39m \u001b[38;5;28;01mreturn\u001b[39;00m disp.plot(\n\u001b[32m    478\u001b[39m     include_values=include_values,\n\u001b[32m    479\u001b[39m     cmap=cmap,\n\u001b[32m   (...)\u001b[39m\u001b[32m    485\u001b[39m     text_kw=text_kw,\n\u001b[32m    486\u001b[39m )\n",
      "\u001b[36mFile \u001b[39m\u001b[32m~/Projects/mads/mads-telemarketing-assignment/.venv/lib/python3.11/site-packages/sklearn/utils/_param_validation.py:216\u001b[39m, in \u001b[36mvalidate_params.<locals>.decorator.<locals>.wrapper\u001b[39m\u001b[34m(*args, **kwargs)\u001b[39m\n\u001b[32m    210\u001b[39m \u001b[38;5;28;01mtry\u001b[39;00m:\n\u001b[32m    211\u001b[39m     \u001b[38;5;28;01mwith\u001b[39;00m config_context(\n\u001b[32m    212\u001b[39m         skip_parameter_validation=(\n\u001b[32m    213\u001b[39m             prefer_skip_nested_validation \u001b[38;5;129;01mor\u001b[39;00m global_skip_validation\n\u001b[32m    214\u001b[39m         )\n\u001b[32m    215\u001b[39m     ):\n\u001b[32m--> \u001b[39m\u001b[32m216\u001b[39m         \u001b[38;5;28;01mreturn\u001b[39;00m \u001b[43mfunc\u001b[49m\u001b[43m(\u001b[49m\u001b[43m*\u001b[49m\u001b[43margs\u001b[49m\u001b[43m,\u001b[49m\u001b[43m \u001b[49m\u001b[43m*\u001b[49m\u001b[43m*\u001b[49m\u001b[43mkwargs\u001b[49m\u001b[43m)\u001b[49m\n\u001b[32m    217\u001b[39m \u001b[38;5;28;01mexcept\u001b[39;00m InvalidParameterError \u001b[38;5;28;01mas\u001b[39;00m e:\n\u001b[32m    218\u001b[39m     \u001b[38;5;66;03m# When the function is just a wrapper around an estimator, we allow\u001b[39;00m\n\u001b[32m    219\u001b[39m     \u001b[38;5;66;03m# the function to delegate validation to the estimator, but we replace\u001b[39;00m\n\u001b[32m    220\u001b[39m     \u001b[38;5;66;03m# the name of the estimator by the name of the function in the error\u001b[39;00m\n\u001b[32m    221\u001b[39m     \u001b[38;5;66;03m# message to avoid confusion.\u001b[39;00m\n\u001b[32m    222\u001b[39m     msg = re.sub(\n\u001b[32m    223\u001b[39m         \u001b[33mr\u001b[39m\u001b[33m\"\u001b[39m\u001b[33mparameter of \u001b[39m\u001b[33m\\\u001b[39m\u001b[33mw+ must be\u001b[39m\u001b[33m\"\u001b[39m,\n\u001b[32m    224\u001b[39m         \u001b[33mf\u001b[39m\u001b[33m\"\u001b[39m\u001b[33mparameter of \u001b[39m\u001b[38;5;132;01m{\u001b[39;00mfunc.\u001b[34m__qualname__\u001b[39m\u001b[38;5;132;01m}\u001b[39;00m\u001b[33m must be\u001b[39m\u001b[33m\"\u001b[39m,\n\u001b[32m    225\u001b[39m         \u001b[38;5;28mstr\u001b[39m(e),\n\u001b[32m    226\u001b[39m     )\n",
      "\u001b[36mFile \u001b[39m\u001b[32m~/Projects/mads/mads-telemarketing-assignment/.venv/lib/python3.11/site-packages/sklearn/metrics/_classification.py:340\u001b[39m, in \u001b[36mconfusion_matrix\u001b[39m\u001b[34m(y_true, y_pred, labels, sample_weight, normalize)\u001b[39m\n\u001b[32m    257\u001b[39m \u001b[38;5;250m\u001b[39m\u001b[33;03m\"\"\"Compute confusion matrix to evaluate the accuracy of a classification.\u001b[39;00m\n\u001b[32m    258\u001b[39m \n\u001b[32m    259\u001b[39m \u001b[33;03mBy definition a confusion matrix :math:`C` is such that :math:`C_{i, j}`\u001b[39;00m\n\u001b[32m   (...)\u001b[39m\u001b[32m    337\u001b[39m \u001b[33;03m(np.int64(0), np.int64(2), np.int64(1), np.int64(1))\u001b[39;00m\n\u001b[32m    338\u001b[39m \u001b[33;03m\"\"\"\u001b[39;00m\n\u001b[32m    339\u001b[39m y_true, y_pred = attach_unique(y_true, y_pred)\n\u001b[32m--> \u001b[39m\u001b[32m340\u001b[39m y_type, y_true, y_pred = \u001b[43m_check_targets\u001b[49m\u001b[43m(\u001b[49m\u001b[43my_true\u001b[49m\u001b[43m,\u001b[49m\u001b[43m \u001b[49m\u001b[43my_pred\u001b[49m\u001b[43m)\u001b[49m\n\u001b[32m    341\u001b[39m \u001b[38;5;28;01mif\u001b[39;00m y_type \u001b[38;5;129;01mnot\u001b[39;00m \u001b[38;5;129;01min\u001b[39;00m (\u001b[33m\"\u001b[39m\u001b[33mbinary\u001b[39m\u001b[33m\"\u001b[39m, \u001b[33m\"\u001b[39m\u001b[33mmulticlass\u001b[39m\u001b[33m\"\u001b[39m):\n\u001b[32m    342\u001b[39m     \u001b[38;5;28;01mraise\u001b[39;00m \u001b[38;5;167;01mValueError\u001b[39;00m(\u001b[33m\"\u001b[39m\u001b[38;5;132;01m%s\u001b[39;00m\u001b[33m is not supported\u001b[39m\u001b[33m\"\u001b[39m % y_type)\n",
      "\u001b[36mFile \u001b[39m\u001b[32m~/Projects/mads/mads-telemarketing-assignment/.venv/lib/python3.11/site-packages/sklearn/metrics/_classification.py:98\u001b[39m, in \u001b[36m_check_targets\u001b[39m\u001b[34m(y_true, y_pred)\u001b[39m\n\u001b[32m     71\u001b[39m \u001b[38;5;250m\u001b[39m\u001b[33;03m\"\"\"Check that y_true and y_pred belong to the same classification task.\u001b[39;00m\n\u001b[32m     72\u001b[39m \n\u001b[32m     73\u001b[39m \u001b[33;03mThis converts multiclass or binary types to a common shape, and raises a\u001b[39;00m\n\u001b[32m   (...)\u001b[39m\u001b[32m     95\u001b[39m \u001b[33;03my_pred : array or indicator matrix\u001b[39;00m\n\u001b[32m     96\u001b[39m \u001b[33;03m\"\"\"\u001b[39;00m\n\u001b[32m     97\u001b[39m xp, _ = get_namespace(y_true, y_pred)\n\u001b[32m---> \u001b[39m\u001b[32m98\u001b[39m \u001b[43mcheck_consistent_length\u001b[49m\u001b[43m(\u001b[49m\u001b[43my_true\u001b[49m\u001b[43m,\u001b[49m\u001b[43m \u001b[49m\u001b[43my_pred\u001b[49m\u001b[43m)\u001b[49m\n\u001b[32m     99\u001b[39m type_true = type_of_target(y_true, input_name=\u001b[33m\"\u001b[39m\u001b[33my_true\u001b[39m\u001b[33m\"\u001b[39m)\n\u001b[32m    100\u001b[39m type_pred = type_of_target(y_pred, input_name=\u001b[33m\"\u001b[39m\u001b[33my_pred\u001b[39m\u001b[33m\"\u001b[39m)\n",
      "\u001b[36mFile \u001b[39m\u001b[32m~/Projects/mads/mads-telemarketing-assignment/.venv/lib/python3.11/site-packages/sklearn/utils/validation.py:475\u001b[39m, in \u001b[36mcheck_consistent_length\u001b[39m\u001b[34m(*arrays)\u001b[39m\n\u001b[32m    473\u001b[39m uniques = np.unique(lengths)\n\u001b[32m    474\u001b[39m \u001b[38;5;28;01mif\u001b[39;00m \u001b[38;5;28mlen\u001b[39m(uniques) > \u001b[32m1\u001b[39m:\n\u001b[32m--> \u001b[39m\u001b[32m475\u001b[39m     \u001b[38;5;28;01mraise\u001b[39;00m \u001b[38;5;167;01mValueError\u001b[39;00m(\n\u001b[32m    476\u001b[39m         \u001b[33m\"\u001b[39m\u001b[33mFound input variables with inconsistent numbers of samples: \u001b[39m\u001b[38;5;132;01m%r\u001b[39;00m\u001b[33m\"\u001b[39m\n\u001b[32m    477\u001b[39m         % [\u001b[38;5;28mint\u001b[39m(l) \u001b[38;5;28;01mfor\u001b[39;00m l \u001b[38;5;129;01min\u001b[39;00m lengths]\n\u001b[32m    478\u001b[39m     )\n",
      "\u001b[31mValueError\u001b[39m: Found input variables with inconsistent numbers of samples: [1066, 1246]"
     ]
    },
    {
     "data": {
      "image/png": "[encoded data removed]",
      "text/plain": [
       "<Figure size 1500x1000 with 6 Axes>"
      ]
     },
     "metadata": {},
     "output_type": "display_data"
    }
   ],
   "source": [
    "plt.style.use(\"seaborn-v0_8-dark\")\n",
    "\n",
    "_, axes = plt.subplots(2, 3, figsize=(15, 10))\n",
    "\n",
    "for ax, (model_name, y_pred) in zip(axes.flatten(), predictions.items()):\n",
    "    ConfusionMatrixDisplay.from_predictions(\n",
    "        y_train,\n",
    "        y_pred,\n",
    "        ax=ax,\n",
    "        colorbar=False,\n",
    "    )\n",
    "    ax.set_title(model_name)\n",
    "\n",
    "plt.tight_layout()\n",
    "plt.show()"
   ]
  },
  {
   "cell_type": "code",
   "execution_count": null,
   "id": "21686df0",
   "metadata": {},
   "outputs": [],
   "source": [
    "plt.style.use(\"seaborn-v0_8-darkgrid\")\n",
    "\n",
    "plt.figure(figsize=(8, 8))\n",
    "\n",
    "for model_name, y_prob in probabilities.items():\n",
    "    prob_true, prob_pred = calibration_curve(y_train, y_prob, n_bins=10)\n",
    "    plt.plot(prob_pred, prob_true, marker=\"o\", label=model_name, linewidth=2)\n",
    "\n",
    "plt.plot([0, 1], [0, 1], \"k:\", label=\"Perfectly calibrated\")\n",
    "plt.xlabel(\"Mean predicted probability\")\n",
    "plt.ylabel(\"Fraction of positives\")\n",
    "plt.title(\"Calibration Curves\")\n",
    "plt.legend()\n",
    "plt.tight_layout()\n",
    "plt.show()"
   ]
  },
  {
   "cell_type": "code",
   "execution_count": null,
   "id": "4543ef35",
   "metadata": {},
   "outputs": [],
   "source": [
    "# Define dictionary to store metrics for each classifier\n",
    "metrics = {}\n",
    "\n",
    "# Calculate various metrics based on the results of the classifiers\n",
    "for name, y_prob in probabilities.items():\n",
    "    # Calculate profit thresholds and metrics\n",
    "    metrics[name] = calculate_profit_thresholds(y_train, y_prob)"
   ]
  },
  {
   "cell_type": "code",
   "execution_count": null,
   "id": "90098292",
   "metadata": {},
   "outputs": [],
   "source": [
    "_, axes = plt.subplots(2, 3, figsize=(15, 10))\n",
    "\n",
    "for ax, (name, metric) in zip(axes.flatten(), metrics.items()):\n",
    "    (\n",
    "        thresholds,\n",
    "        profits,\n",
    "        maximum_profit,\n",
    "        optimal_threshold,\n",
    "        precision,\n",
    "        recall,\n",
    "    ) = metric\n",
    "    plot_profit_thresholds(\n",
    "        profits,\n",
    "        thresholds,\n",
    "        optimal_threshold,\n",
    "        ax=ax,\n",
    "        model_name=name,\n",
    "    )"
   ]
  },
  {
   "cell_type": "code",
   "execution_count": null,
   "id": "fd18e398",
   "metadata": {},
   "outputs": [],
   "source": [
    "# Prepare headers and metrics for the table\n",
    "headers = [\"Metric\"] + list(metrics.keys())\n",
    "\n",
    "table = []\n",
    "for name, metric in metrics.items():\n",
    "    # Collect metrics for each model in a more elegant way\n",
    "    values = [\n",
    "        metric[2],  # Maximum Profit\n",
    "        metric[3],  # Optimal Threshold\n",
    "        metric[4],  # Precision\n",
    "        metric[5],  # Recall\n",
    "    ]\n",
    "    if len(table) == 0:\n",
    "        metric_names = [\n",
    "            \"Maximum Profit\",\n",
    "            \"Optimal Threshold\",\n",
    "            \"Precision\",\n",
    "            \"Recall\",\n",
    "        ]\n",
    "        table = [[name] for name in metric_names]\n",
    "    for i, value in enumerate(values):\n",
    "        if isinstance(value, float):\n",
    "            table[i].append(f\"{value:.3f}\")\n",
    "        else:\n",
    "            table[i].append(f\"{value:,}\" if isinstance(value, int) else str(value))\n",
    "\n",
    "\n",
    "print(tabulate(table, headers, tablefmt=\"github\"))"
   ]
  },
  {
   "cell_type": "code",
   "execution_count": null,
   "id": "58bf4434",
   "metadata": {},
   "outputs": [],
   "source": [
    "# Select classifier with highest maximum profit\n",
    "selected_model_name = max(metrics.items(), key=lambda x: x[1][2])[0]\n",
    "# Grab the best model based on the name\n",
    "selected_model = classifiers[selected_model_name][0]\n",
    "\n",
    "print(f\"Selected model: {selected_model_name}\")"
   ]
  },
  {
   "cell_type": "code",
   "execution_count": null,
   "id": "79014d56",
   "metadata": {},
   "outputs": [],
   "source": [
    "# Fit the selected model on the balanced training data\n",
    "selected_model.fit(X_train_balanced, y_train_balanced)\n",
    "# Predict probabilities on the test set\n",
    "# Note: The transformer is used to transform the test set features\n",
    "X_test_transformed = transformer.transform(X_test)\n",
    "y_prob = selected_model.predict_proba(X_test_transformed)[:, 1]\n",
    "y_pred = selected_model.predict(X_test_transformed)"
   ]
  },
  {
   "cell_type": "code",
   "execution_count": null,
   "id": "75029fdb",
   "metadata": {},
   "outputs": [],
   "source": [
    "fig, ax = plt.subplots()\n",
    "\n",
    "LearningCurveDisplay.from_estimator(\n",
    "    selected_model,\n",
    "    X_train_balanced,\n",
    "    y_train_balanced,\n",
    "    ax=ax,\n",
    ")\n",
    "ax.set_title(selected_model_name)\n",
    "\n",
    "plt.tight_layout()\n",
    "plt.show()"
   ]
  },
  {
   "cell_type": "code",
   "execution_count": null,
   "id": "20e82180",
   "metadata": {},
   "outputs": [],
   "source": [
    "plt.style.use(\"seaborn-v0_8-dark\")\n",
    "\n",
    "fig, ax = plt.subplots()\n",
    "\n",
    "ConfusionMatrixDisplay.from_predictions(\n",
    "    y_test,\n",
    "    y_pred,\n",
    "    ax=ax,\n",
    "    colorbar=False,\n",
    ")\n",
    "ax.set_title(selected_model_name)\n",
    "\n",
    "plt.tight_layout()\n",
    "plt.show()"
   ]
  },
  {
   "cell_type": "code",
   "execution_count": null,
   "id": "dd33c2ae",
   "metadata": {},
   "outputs": [],
   "source": [
    "plt.style.use(\"seaborn-v0_8-darkgrid\")\n",
    "\n",
    "plt.figure()\n",
    "\n",
    "prob_true, prob_pred = calibration_curve(y_test, y_prob, n_bins=10)\n",
    "plt.plot(prob_pred, prob_true, marker=\"o\", label=selected_model_name, linewidth=2)\n",
    "\n",
    "plt.plot([0, 1], [0, 1], \"k:\", label=\"Perfectly calibrated\")\n",
    "plt.xlabel(\"Mean predicted probability\")\n",
    "plt.ylabel(\"Fraction of positives\")\n",
    "plt.title(\"Calibration Curves\")\n",
    "plt.legend()\n",
    "plt.tight_layout()\n",
    "plt.show()"
   ]
  },
  {
   "cell_type": "code",
   "execution_count": null,
   "id": "64e29769",
   "metadata": {},
   "outputs": [],
   "source": [
    "(\n",
    "    thresholds,\n",
    "    profits,\n",
    "    maximum_profit,\n",
    "    optimal_threshold,\n",
    "    precision,\n",
    "    recall,\n",
    ") = calculate_profit_thresholds(y_test, y_prob)\n",
    "\n",
    "fig, ax = plt.subplots(figsize=(10, 10))\n",
    "plot_profit_thresholds(\n",
    "    profits,\n",
    "    thresholds,\n",
    "    optimal_threshold,\n",
    "    ax=ax,\n",
    "    model_name=f\"{selected_model_name} (Test Set)\",\n",
    ")\n",
    "plt.show()\n",
    "\n",
    "print(\"Maximum Profit\", f\"{maximum_profit:,}\")\n",
    "print(\"Optimal Threshold\", f\"{optimal_threshold:.3f}\")\n",
    "print(\"Precision\", f\"{precision:.3f}\")\n",
    "print(\"Recall\", f\"{recall:.3f}\")"
   ]
  }
 ],
 "metadata": {
  "kernelspec": {
   "display_name": "mads-telemarketing-assignment-3.11",
   "language": "python",
   "name": "python3"
  },
  "language_info": {
   "codemirror_mode": {
    "name": "ipython",
    "version": 3
   },
   "file_extension": ".py",
   "mimetype": "text/x-python",
   "name": "python",
   "nbconvert_exporter": "python",
   "pygments_lexer": "ipython3",
   "version": "3.11.5"
  }
 },
 "nbformat": 4,
 "nbformat_minor": 5
}
