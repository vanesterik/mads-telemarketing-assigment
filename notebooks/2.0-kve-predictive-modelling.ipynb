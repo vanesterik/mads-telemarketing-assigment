{
 "cells": [
  {
   "cell_type": "code",
   "execution_count": 1,
   "id": "03749a6c",
   "metadata": {},
   "outputs": [],
   "source": [
    "import numpy as np\n",
    "import pandas as pd\n",
    "\n",
    "from sklearn.base import ClassifierMixin\n",
    "from sklearn.compose import ColumnTransformer\n",
    "from sklearn.ensemble import AdaBoostClassifier, RandomForestClassifier\n",
    "from sklearn.metrics import accuracy_score, f1_score, precision_score, recall_score, roc_auc_score\n",
    "from sklearn.model_selection import train_test_split, StratifiedKFold\n",
    "from sklearn.neural_network import MLPClassifier\n",
    "from sklearn.pipeline import Pipeline, make_pipeline as base_make_pipeline\n",
    "from sklearn.preprocessing import OneHotEncoder\n",
    "from sklearn.preprocessing import StandardScaler\n",
    "\n",
    "from xgboost import XGBClassifier\n",
    "\n",
    "from matplotlib import pyplot as plt\n",
    "from tabulate import tabulate\n",
    "\n",
    "from mads_telemarketing_assignment.config import (\n",
    "    APPROACHED_DATA_FILENAME,\n",
    "    CATEGORICAL_FEATURES,\n",
    "    PROCESSED_DATA_DIR,\n",
    ")"
   ]
  },
  {
   "cell_type": "code",
   "execution_count": 2,
   "id": "b3202a8f",
   "metadata": {},
   "outputs": [],
   "source": [
    "# Various variables used in the code\n",
    "random_state = 42"
   ]
  },
  {
   "cell_type": "code",
   "execution_count": 3,
   "id": "9029b012",
   "metadata": {},
   "outputs": [],
   "source": [
    "# Load approached dataset\n",
    "df = pd.read_csv(PROCESSED_DATA_DIR / APPROACHED_DATA_FILENAME)"
   ]
  },
  {
   "cell_type": "code",
   "execution_count": 4,
   "id": "ce80d77e",
   "metadata": {},
   "outputs": [
    {
     "name": "stdout",
     "output_type": "stream",
     "text": [
      "X shape: (1515, 20), y shape: (1515,)\n"
     ]
    }
   ],
   "source": [
    "# Define X and y for modeling\n",
    "X = df.drop(columns=[\"y\"], axis=1)\n",
    "y = df[\"y\"]\n",
    "\n",
    "print(f\"X shape: {X.shape}, y shape: {y.shape}\")"
   ]
  },
  {
   "cell_type": "code",
   "execution_count": 5,
   "id": "006dcb22",
   "metadata": {},
   "outputs": [],
   "source": [
    "# Split the data into training and testing sets\n",
    "X_train, X_test, y_train, y_test = train_test_split(\n",
    "    X,\n",
    "    y,\n",
    "    random_state=random_state,\n",
    "    stratify=y, # Ensure the split maintains the same proportion of classes\n",
    "    test_size=0.25, # 25% of the data for testing\n",
    ")"
   ]
  },
  {
   "cell_type": "code",
   "execution_count": 11,
   "id": "299caf45",
   "metadata": {},
   "outputs": [],
   "source": [
    "# Define list of classifiers to be used in modeling process\n",
    "classifiers = [\n",
    "    [\n",
    "        \"Neural Net\",\n",
    "        MLPClassifier(\n",
    "            random_state=random_state,\n",
    "            max_iter=1000,\n",
    "        ),\n",
    "        {\n",
    "            \"mlpclassifier__max_iter\": [200, 500, 1000],\n",
    "        }\n",
    "    ],\n",
    "    [\n",
    "        \"Random Forest\",\n",
    "        RandomForestClassifier(random_state=random_state),\n",
    "        {\n",
    "            \"randomforestclassifier__max_depth\": [10, 20, 30],\n",
    "        }\n",
    "    ],\n",
    "    [\n",
    "        \"AdaBoost\",\n",
    "        AdaBoostClassifier(random_state=random_state),\n",
    "        {\n",
    "            \"adaboostclassifier__learning_rate\": [1, 0.1, 0.01],\n",
    "        }\n",
    "    ],\n",
    "    [\n",
    "        \"XGBoost\",\n",
    "        XGBClassifier(random_state=random_state),\n",
    "        {\n",
    "            \"xgbclassifier__learning_rate\": [1, 0.1, 0.01],\n",
    "        }\n",
    "    ],\n",
    "]"
   ]
  },
  {
   "cell_type": "code",
   "execution_count": 12,
   "id": "b660ae9a",
   "metadata": {},
   "outputs": [],
   "source": [
    "def make_pipeline(classifier: ClassifierMixin) -> Pipeline:\n",
    "    return base_make_pipeline(\n",
    "        ColumnTransformer(\n",
    "            [\n",
    "                (\n",
    "                    \"categorical\",\n",
    "                    OneHotEncoder(\n",
    "                        sparse_output=False,\n",
    "                        handle_unknown=\"ignore\",\n",
    "                    ),\n",
    "                    CATEGORICAL_FEATURES,\n",
    "                ),\n",
    "            ],\n",
    "            remainder=StandardScaler(),\n",
    "        ),\n",
    "        # SMOTE(\n",
    "        #     random_state=random_state,\n",
    "        #     sampling_strategy=\"minority\",\n",
    "        # ),\n",
    "        classifier,\n",
    "    )"
   ]
  },
  {
   "cell_type": "code",
   "execution_count": 13,
   "id": "47fa7c08",
   "metadata": {},
   "outputs": [
    {
     "name": "stdout",
     "output_type": "stream",
     "text": [
      "Start modelling:\n",
      "- Neural Net\n",
      "- Random Forest\n",
      "- AdaBoost\n",
      "- XGBoost\n",
      "✅ Modelling completed.\n"
     ]
    }
   ],
   "source": [
    "# Define dictionary to store predictions of each classifier\n",
    "classifier_predictions = {\n",
    "    name: np.zeros(len(y_train)) for name, _, _ in classifiers  # Placeholder for probabilities\n",
    "}\n",
    "\n",
    "print(\"Start modelling:\")\n",
    "\n",
    "# Loop through each classifier, fit, cross-validate and store results\n",
    "for name, model, _ in classifiers:\n",
    "    print(f\"- {name}\")\n",
    "\n",
    "    pipeline = make_pipeline(model)\n",
    "    folds = StratifiedKFold(n_splits=5, shuffle=True, random_state=random_state)\n",
    "\n",
    "    for fold_train_index, fold_test_index in folds.split(X_train, y_train):\n",
    "        # Split the data into training and test folds\n",
    "        X_fold_train, X_fold_test = (\n",
    "            X_train.iloc[fold_train_index],\n",
    "            X_train.iloc[fold_test_index],\n",
    "        )\n",
    "        y_fold_train, y_fold_test = (\n",
    "            y_train.iloc[fold_train_index],\n",
    "            y_train.iloc[fold_test_index],\n",
    "        )\n",
    "\n",
    "        # Fit the pipeline on the training fold\n",
    "        pipeline.fit(X_fold_train, y_fold_train)\n",
    "        # Predict probabilities for the test fold\n",
    "        y_fold_probabilities = pipeline.predict_proba(X_fold_test)[:, 1]\n",
    "\n",
    "        # Append results per fold for each classifier into results dictionary\n",
    "        classifier_predictions[name][fold_test_index] = y_fold_probabilities\n",
    "\n",
    "print(\"✅ Modelling completed.\")"
   ]
  },
  {
   "cell_type": "code",
   "execution_count": 14,
   "id": "fd18e398",
   "metadata": {},
   "outputs": [
    {
     "name": "stdout",
     "output_type": "stream",
     "text": [
      "| Metric    |   Neural Net |   Random Forest |   AdaBoost |   XGBoost |\n",
      "|-----------|--------------|-----------------|------------|-----------|\n",
      "| Accuracy  |        0.654 |           0.69  |      0.69  |     0.699 |\n",
      "| Precision |        0.718 |           0.717 |      0.706 |     0.741 |\n",
      "| Recall    |        0.754 |           0.85  |      0.881 |     0.811 |\n",
      "| F1        |        0.736 |           0.778 |      0.784 |     0.775 |\n",
      "| ROC AUC   |        0.67  |           0.717 |      0.706 |     0.714 |\n"
     ]
    }
   ],
   "source": [
    "# Prepare headers and metrics for the table\n",
    "headers = [\"Metric\"] + list(classifier_predictions.keys())\n",
    "\n",
    "# Build the table using classifier_scores\n",
    "metrics = [\n",
    "    (\"Accuracy\", accuracy_score),\n",
    "    (\"Precision\", precision_score),\n",
    "    (\"Recall\", recall_score),\n",
    "    (\"F1\", f1_score),\n",
    "    (\"ROC AUC\", roc_auc_score),\n",
    "]\n",
    "\n",
    "table = []\n",
    "for metric_name, metric_func in metrics:\n",
    "    row = [metric_name]\n",
    "    for scores in classifier_predictions.values():\n",
    "        metric_value = (\n",
    "            metric_func(y_train, (scores >= 0.5).astype(int))\n",
    "            if metric_name != \"ROC AUC\"\n",
    "            else metric_func(y_train, scores)\n",
    "        )\n",
    "        row.append(f\"{metric_value:.3f}\")\n",
    "    table.append(row)\n",
    "\n",
    "print(tabulate(table, headers, tablefmt=\"github\"))"
   ]
  },
  {
   "cell_type": "code",
   "execution_count": 15,
   "id": "23d65f32",
   "metadata": {},
   "outputs": [],
   "source": [
    "# fig, (auc_plot, alift_plot) = plt.subplots(1, 2, figsize=(10, 5))\n",
    "\n",
    "# for name in classifier_predictions:\n",
    "#     responses, true_positive_rates, thresholds = classifier_predictions[name][\"AUC\"][1]\n",
    "#     auc_plot.plot(\n",
    "#         responses,\n",
    "#         true_positive_rates,\n",
    "#         label=name,\n",
    "#     )\n",
    "# auc_plot.plot([0, 1], [0, 1], \"k:\", label=\"Random Classifier\")\n",
    "# auc_plot.set_title(\"ROC Curves\")\n",
    "# auc_plot.set_xlabel(\"False Positive Rate\")\n",
    "# auc_plot.set_ylabel(\"True Positive Rate\")\n",
    "# auc_plot.legend()\n",
    "\n",
    "\n",
    "# plt.tight_layout()\n",
    "# plt.show()\n"
   ]
  }
 ],
 "metadata": {
  "kernelspec": {
   "display_name": ".venv",
   "language": "python",
   "name": "python3"
  },
  "language_info": {
   "codemirror_mode": {
    "name": "ipython",
    "version": 3
   },
   "file_extension": ".py",
   "mimetype": "text/x-python",
   "name": "python",
   "nbconvert_exporter": "python",
   "pygments_lexer": "ipython3",
   "version": "3.11.5"
  }
 },
 "nbformat": 4,
 "nbformat_minor": 5
}
